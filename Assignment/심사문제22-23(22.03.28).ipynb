{
 "cells": [
  {
   "cell_type": "markdown",
   "metadata": {},
   "source": [
    "### 22.10 심사문제: 2의 거듭제곱 리스트 생성하기"
   ]
  },
  {
   "cell_type": "code",
   "execution_count": 156,
   "metadata": {},
   "outputs": [
    {
     "data": {
      "text/plain": [
       "[2, 8, 16, 32, 64, 128, 256, 1024]"
      ]
     },
     "execution_count": 156,
     "metadata": {},
     "output_type": "execute_result"
    }
   ],
   "source": [
    "s, e = map(int, input().split())\n",
    "[2 ** i for i in range(s, e+1) if not i in [s+1, e-1]]"
   ]
  },
  {
   "cell_type": "code",
   "execution_count": 157,
   "metadata": {},
   "outputs": [
    {
     "name": "stdout",
     "output_type": "stream",
     "text": [
      "[2, 8, 16, 32, 64, 128, 256, 1024]\n"
     ]
    }
   ],
   "source": [
    "s, e = map(int, input().split())\n",
    "l = []\n",
    "for i in range(s, e + 1):\n",
    "    if not i in [s + 1, e - 1]:\n",
    "        l.append(2 ** i)\n",
    "print(l)"
   ]
  },
  {
   "cell_type": "markdown",
   "metadata": {},
   "source": [
    "### 23.7 심사문제: 지뢰찾기"
   ]
  },
  {
   "cell_type": "markdown",
   "metadata": {},
   "source": [
    "<pre>\n",
    "표준 입력으로 2차원 리스트의 가로(col)와 세로(row)가 입력되고 \n",
    "그 다음 줄부터 리스트의 요소로 들어갈 문자가 입력됩니다. \n",
    "이때 2차원 리스트 안에서 *는 지뢰이고 .은 지뢰가 아닙니다. \n",
    "지뢰가 아닌 요소에는 인접한 지뢰의 개수를 출력하는 프로그램을 만드세요\n",
    "(input에서 안내 문자열은 출력하지 않아야 합니다).\n",
    "\n",
    "여러 줄을 입력 받으려면 다음과 같이 for 반복문에서 input을 호출한 뒤 \n",
    "append로 각 줄을 추가하면 됩니다\n",
    "(list 안에 문자열을 넣으면 문자열이 문자 리스트로 변환됩니다).\n",
    "\n",
    "matrix = []\n",
    "for i in range(row):\n",
    "    matrix.append(list(input()))\n",
    "이 문제는 지금까지 심사문제 중에서 가장 어렵습니다. \n",
    "처음 풀어보는 경우 대략 두 시간은 걸립니다. \n",
    "시간을 두고 천천히 고민해서 풀어보세요. \n",
    "지금까지 학습한 내용을 모두 동원해야 풀 수 있으며 \n",
    "막힐 때는 지금까지 학습한 내용을 다시 복습하면서 힌트를 찾아보세요.\n",
    "</pre>"
   ]
  },
  {
   "cell_type": "code",
   "execution_count": 158,
   "metadata": {},
   "outputs": [],
   "source": [
    "# 1. 게임 판을 만든다.(30% 지뢰, 70% 그냥)\n",
    "\n",
    "# 2. 패딩판으로 게임 판을 옮긴다. ex) 4x4 --> 6x6\n",
    "\n",
    "# 3. 패딩 판에서 지뢰의 갯수를 찾는다.\n",
    "\n",
    "# 4. 패딩 판에서 게임 판으로 축소 ex) 6x6 --> 4x4\n",
    "\n",
    "# 5. 게임 판을 프린트"
   ]
  },
  {
   "cell_type": "code",
   "execution_count": 159,
   "metadata": {},
   "outputs": [],
   "source": [
    "# PrintCheck\n",
    "def print_mines(l):\n",
    "    for row in l:\n",
    "        print(*row)"
   ]
  },
  {
   "cell_type": "code",
   "execution_count": 160,
   "metadata": {},
   "outputs": [],
   "source": [
    "# 1. 게임 판을 만든다.(30% 지뢰, 70% 그냥)\n",
    "import random\n",
    "col, row = map(int, input().split())\n",
    "game_board = []\n",
    "\n",
    "for i in range(row):\n",
    "    inner_game_board = []\n",
    "    for k in range(col):\n",
    "        rd = random.randint(1,11)   # rd는 1~10까지 램덤\n",
    "        if rd in [1,2,3]:\n",
    "            inner_game_board.append(\"*\")\n",
    "        else:\n",
    "            inner_game_board.append(\".\")\n",
    "    game_board.append(inner_game_board)\n",
    "\n",
    "# 리스트 표현식\n",
    "''' game_board = [[\"*\" if random.randint(1,11) in [1,2,3] else \".\" for k in range(col)] for i in range(row)] '''"
   ]
  },
  {
   "cell_type": "code",
   "execution_count": 162,
   "metadata": {},
   "outputs": [
    {
     "name": "stdout",
     "output_type": "stream",
     "text": [
      ". . . . . .\n",
      ". * . * . .\n",
      "* * . . . .\n",
      ". . . . . *\n",
      "* . * . . .\n",
      ". * . * . .\n"
     ]
    }
   ],
   "source": [
    "# 게임보드 체크\n",
    "print_mines(game_board)"
   ]
  },
  {
   "cell_type": "code",
   "execution_count": 163,
   "metadata": {},
   "outputs": [],
   "source": [
    "# 2. 패딩판으로 게임 판을 옮긴다. ex) 4x4 --> 6x6\n",
    "# 패딩판 만들기\n",
    "padding = []\n",
    "for i in range(row + 2):\n",
    "    inner_padding = []\n",
    "    for k in range(col + 2):\n",
    "        inner_padding.append(\"\")\n",
    "    padding.append(inner_padding)\n",
    "# 리스트 표현식\n",
    "''' padding = [[\"\" for k in range(col + 2)] for i in range(row + 2)] '''\n",
    "# 게임판 옮기기\n",
    "for i in range(1, row + 1):\n",
    "    for k in range(1, col + 1):\n",
    "        padding[k][i] = game_board [k - 1][i - 1]"
   ]
  },
  {
   "cell_type": "code",
   "execution_count": 164,
   "metadata": {},
   "outputs": [
    {
     "name": "stdout",
     "output_type": "stream",
     "text": [
      "       \n",
      " . . . . . . \n",
      " . * . * . . \n",
      " * * . . . . \n",
      " . . . . . * \n",
      " * . * . . . \n",
      " . * . * . . \n",
      "       \n"
     ]
    }
   ],
   "source": [
    "# 패딩 체크\n",
    "print_mines(padding)"
   ]
  },
  {
   "cell_type": "code",
   "execution_count": 165,
   "metadata": {},
   "outputs": [],
   "source": [
    "# 3. 패딩 판에서 지뢰의 갯수를 찾는다.\n",
    "# 지뢰 갯수 세기\n",
    "def find(x, y):\n",
    "    mine_num = 0\n",
    "    for i in range(y-1, y+2):\n",
    "        for k in range(x-1, x+2):\n",
    "            if padding[i][k] == \"*\":\n",
    "                mine_num += 1\n",
    "    return mine_num\n"
   ]
  },
  {
   "cell_type": "code",
   "execution_count": 166,
   "metadata": {},
   "outputs": [],
   "source": [
    "# 그냥인 경우 주변 지뢰 찾게 하기\n",
    "for i in range(1, row + 1):     \n",
    "    for k in range(1, col + 1):     # 찾는 범위 축소\n",
    "        if padding[i][k] == \".\":\n",
    "            padding[i][k] = find(k, i)      # 그냥에 주변 지뢰 갯수 넣기"
   ]
  },
  {
   "cell_type": "code",
   "execution_count": 167,
   "metadata": {},
   "outputs": [
    {
     "name": "stdout",
     "output_type": "stream",
     "text": [
      "       \n",
      " 1 1 2 1 1 0 \n",
      " 3 * 3 * 1 0 \n",
      " * * 3 1 2 1 \n",
      " 3 4 2 1 1 * \n",
      " * 3 * 2 2 1 \n",
      " 2 * 3 * 1 0 \n",
      "       \n"
     ]
    }
   ],
   "source": [
    "print_mines(padding)"
   ]
  },
  {
   "cell_type": "code",
   "execution_count": 168,
   "metadata": {},
   "outputs": [],
   "source": [
    "# 4. 패딩 판에서 게임 판으로 축소 ex) 6x6 --> 4x4\n",
    "for i in range(1, row + 1):\n",
    "    for k in range(1, col + 1):\n",
    "         game_board[i - 1][k - 1] = padding[i][k]"
   ]
  },
  {
   "cell_type": "code",
   "execution_count": 169,
   "metadata": {},
   "outputs": [
    {
     "name": "stdout",
     "output_type": "stream",
     "text": [
      "112110\n",
      "3*3*10\n",
      "**3121\n",
      "34211*\n",
      "*3*221\n",
      "2*3*10\n"
     ]
    }
   ],
   "source": [
    "# 5. 게임 판을 프린트\n",
    "for i in range(row):\n",
    "    for k in range(col):\n",
    "        print(game_board[i][k], end='')\n",
    "    print()"
   ]
  },
  {
   "cell_type": "markdown",
   "metadata": {},
   "source": [
    "### 연습문제\n",
    "<pre>\n",
    "a + b + c = 1000, a < b < c 를 만족하고,\n",
    "a*a + b*b = c*c 를 만족하는 피타고라스 수 a, b, c 는?\n",
    "</pre>"
   ]
  },
  {
   "cell_type": "code",
   "execution_count": 171,
   "metadata": {},
   "outputs": [
    {
     "name": "stdout",
     "output_type": "stream",
     "text": [
      "200 375 425\n"
     ]
    }
   ],
   "source": [
    "for a in range(1, 333):\n",
    "    for b in range(a + 1, 500):\n",
    "        c  = 1000 - a - b\n",
    "        if a*a + b*b == c*c:\n",
    "            print(a,b,c)\n",
    "            break"
   ]
  },
  {
   "cell_type": "code",
   "execution_count": 173,
   "metadata": {},
   "outputs": [
    {
     "data": {
      "text/plain": [
       "False"
      ]
     },
     "execution_count": 173,
     "metadata": {},
     "output_type": "execute_result"
    }
   ],
   "source": [
    "a = [0,0,0]\n",
    "b = a.copy\n",
    "a is b"
   ]
  },
  {
   "cell_type": "code",
   "execution_count": null,
   "metadata": {},
   "outputs": [],
   "source": []
  }
 ],
 "metadata": {
  "interpreter": {
   "hash": "2416f014eda44098b06ac223510cfbf712f6c3c49a2a2784b81e5eb971c53cd7"
  },
  "kernelspec": {
   "display_name": "Python 3.7.1 ('base')",
   "language": "python",
   "name": "python3"
  },
  "language_info": {
   "codemirror_mode": {
    "name": "ipython",
    "version": 3
   },
   "file_extension": ".py",
   "mimetype": "text/x-python",
   "name": "python",
   "nbconvert_exporter": "python",
   "pygments_lexer": "ipython3",
   "version": "3.7.1"
  },
  "orig_nbformat": 4
 },
 "nbformat": 4,
 "nbformat_minor": 2
}
