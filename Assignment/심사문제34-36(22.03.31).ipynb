{
 "cells": [
  {
   "cell_type": "markdown",
   "metadata": {},
   "source": [
    "### 34.6 심사문제: 게임 캐릭터 클래스 만들기\n",
    "<pre>\n",
    "표준 입력으로 게임 캐릭터 능력치(체력, 마나, AP)가 입력됩니다. \n",
    "다음 소스 코드에서 애니(Annie) 클래스를 작성하여 티버(tibbers) 스킬의 피해량이 출력되게 만드세요. \n",
    "티버의 피해량은 AP * 0.65 + 400이며 AP(Ability Power, 주문력)는 마법 능력치를 뜻합니다.\n",
    "입력\n",
    "511.68 334.0 298\n",
    "결과\n",
    "티버: 피해량 593.7\n",
    "</pre>"
   ]
  },
  {
   "cell_type": "code",
   "execution_count": 18,
   "metadata": {},
   "outputs": [],
   "source": [
    "class Annie:\n",
    "    def __init__(self, **tibber):\n",
    "        self.tibber = list(tibber.values())\n",
    "    def tibbers(self):\n",
    "        AP = self.tibber[2] * 0.65 + 400\n",
    "        print(f'티버: 피해량 {AP}')"
   ]
  },
  {
   "cell_type": "code",
   "execution_count": 19,
   "metadata": {},
   "outputs": [
    {
     "name": "stdout",
     "output_type": "stream",
     "text": [
      "티버: 피해량 593.7\n"
     ]
    }
   ],
   "source": [
    "health, mana, ability_power = map(float, input().split())\n",
    " \n",
    "x = Annie(health=health, mana=mana, ability_power=ability_power)\n",
    "x.tibbers()"
   ]
  },
  {
   "cell_type": "code",
   "execution_count": 44,
   "metadata": {},
   "outputs": [],
   "source": [
    "class Annie2:\n",
    "    def __init__(self, health, mana, ability_power):\n",
    "        self.health = health\n",
    "        self.mana = mana\n",
    "        self.ability_power = ability_power\n",
    "    def tibbers(self):\n",
    "        ap = self.ability_power * 0.65 + 400\n",
    "        print(f'티버: 피해량 {ap}')"
   ]
  },
  {
   "cell_type": "code",
   "execution_count": 45,
   "metadata": {},
   "outputs": [
    {
     "name": "stdout",
     "output_type": "stream",
     "text": [
      "티버: 피해량 593.7\n"
     ]
    }
   ],
   "source": [
    "health, mana, ability_power = map(float, input().split())\n",
    " \n",
    "y = Annie2(health=health, mana=mana, ability_power=ability_power)\n",
    "y.tibbers()"
   ]
  },
  {
   "cell_type": "markdown",
   "metadata": {},
   "source": [
    "### 심사문제 34.6\n",
    "\n",
    "연습문제\n",
    "1. Calculator\n",
    "    add, sub, mul, div 메소드 구현\n",
    "    단, 0으로 나누지 못하게 할 것\n",
    "2. Account 클래서 만들기\n",
    "    ### 속성\n",
    "    ano: 문자열 6글자, '123456'\n",
    "    owner: 문자열\n",
    "    balance: 잔액, 비공개 속성\n",
    "\n",
    "    ### Method\n",
    "    생성자\n",
    "    deposit(amount) 잔액이 1000만원 이상이면 입금할 수 없음\n",
    "    withdraw(amount) 잔액이 0원 미만이면 출금할 수 없음\n",
    "    출력 가능하게(__str__)"
   ]
  },
  {
   "cell_type": "code",
   "execution_count": 22,
   "metadata": {},
   "outputs": [],
   "source": [
    "class Calculator:\n",
    "    def __init__(self, a, b):\n",
    "        self.a = a\n",
    "        self.b = b\n",
    "    def add(self):\n",
    "        return self.a + self.b\n",
    "    def sub(self):\n",
    "        return self.a - self.b\n",
    "    def mul(self):\n",
    "        return self.a * self.b\n",
    "    def div(self):\n",
    "        if self.b == 0:\n",
    "            return None\n",
    "        return self.a / self.b"
   ]
  },
  {
   "cell_type": "code",
   "execution_count": 24,
   "metadata": {},
   "outputs": [
    {
     "name": "stdout",
     "output_type": "stream",
     "text": [
      "(3, 4): add 7, sub -1, mul 12 div 0.75\n"
     ]
    }
   ],
   "source": [
    "c = Calculator(3, 4)\n",
    "print(f'(3, 4): add {c.add()}, sub {c.sub()}, mul {c.mul()} div {c.div()}')"
   ]
  },
  {
   "cell_type": "code",
   "execution_count": 31,
   "metadata": {},
   "outputs": [],
   "source": [
    "class Account:\n",
    "    def __init__(self, ano, owner, balance):\n",
    "        if len(str(ano)) != 6:\n",
    "            return None\n",
    "        self.ano = ano\n",
    "        if type(owner) != str:\n",
    "            return None\n",
    "        self.owner = owner\n",
    "        self.__balance = balance\n",
    "    def deposit(self, amount):\n",
    "        if self.__balance + amount >= 10000000:\n",
    "            print(f'잔액: {self.__balance:,d}원, 입금을 더 이상할 수 없습니다.')\n",
    "            return\n",
    "        self.__balance += amount\n",
    "        print(f'잔액: {self.__balance:,d}원, 사용해주셔서 감사합니다.')\n",
    "    def withdraw(self, amount):\n",
    "        if self.__balance - amount < 0:\n",
    "            print(f'잔액이 부족합니다.')\n",
    "            return\n",
    "        self.__balance -= amount\n",
    "        print(f'잔액: {self.__balance:,d}원, 사용해주셔서 감사합니다.')\n",
    "    def __str__(self):\n",
    "        print(f'잔액: {self.__balance:,d}원 입니다.')"
   ]
  },
  {
   "cell_type": "code",
   "execution_count": 32,
   "metadata": {},
   "outputs": [],
   "source": [
    "my_account = Account('123456', '박찬준', 10)"
   ]
  },
  {
   "cell_type": "code",
   "execution_count": 33,
   "metadata": {},
   "outputs": [
    {
     "name": "stdout",
     "output_type": "stream",
     "text": [
      "잔액이 부족합니다.\n"
     ]
    }
   ],
   "source": [
    "my_account.withdraw(100)"
   ]
  }
 ],
 "metadata": {
  "interpreter": {
   "hash": "9c8b58001ec5ba7c53abaa241d70ccabe00e15dd94cc404ad25e0c5b7fb29d12"
  },
  "kernelspec": {
   "display_name": "Python 3.10.1 64-bit",
   "language": "python",
   "name": "python3"
  },
  "language_info": {
   "codemirror_mode": {
    "name": "ipython",
    "version": 3
   },
   "file_extension": ".py",
   "mimetype": "text/x-python",
   "name": "python",
   "nbconvert_exporter": "python",
   "pygments_lexer": "ipython3",
   "version": "3.7.1"
  },
  "orig_nbformat": 4
 },
 "nbformat": 4,
 "nbformat_minor": 2
}
