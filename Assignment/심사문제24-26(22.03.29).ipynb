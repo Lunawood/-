{
 "cells": [
  {
   "cell_type": "markdown",
   "metadata": {},
   "source": [
    "### 24.5 심사문제: 특정 단어 개수 세기"
   ]
  },
  {
   "cell_type": "code",
   "execution_count": 36,
   "metadata": {},
   "outputs": [
    {
     "name": "stdout",
     "output_type": "stream",
     "text": [
      "6\n"
     ]
    }
   ],
   "source": [
    "s = str(input().split())\n",
    "import re\n",
    "s = re.sub('[^A-Za-z ]','',s)\n",
    "l = s.split()\n",
    "print(len([word for word in l if word == 'the']))"
   ]
  },
  {
   "cell_type": "code",
   "execution_count": 91,
   "metadata": {},
   "outputs": [
    {
     "data": {
      "text/plain": [
       "8"
      ]
     },
     "execution_count": 91,
     "metadata": {},
     "output_type": "execute_result"
    }
   ],
   "source": [
    "text = '''\n",
    "the grown-ups' response, this time, was to advise me to lay aside my drawings of boa constrictors, \n",
    "whether from the inside or the outside, and devote myself instead to geography, history, arithmetic,\n",
    " and grammar. That is why, at the, age of six, I gave up what might have been a magnificent career as a painter. \n",
    " I had been disheartened by the failure of my Drawing Number One and my Drawing Number Two. \n",
    " Grown-ups never understand anything by themselves, \n",
    " and it is tiresome for children to be always and forever explaining things to the.\n",
    "'''\n",
    "text.count('the')"
   ]
  },
  {
   "cell_type": "code",
   "execution_count": 93,
   "metadata": {},
   "outputs": [
    {
     "name": "stdout",
     "output_type": "stream",
     "text": [
      "6\n"
     ]
    }
   ],
   "source": [
    "text_list = text.split()\n",
    "count_the = 0\n",
    "for word in text_list:\n",
    "    word = word.strip(\"',.\").lower()\n",
    "    if word == 'the':\n",
    "        count_the += 1\n",
    "print(count_the)"
   ]
  },
  {
   "cell_type": "markdown",
   "metadata": {},
   "source": [
    "### 24.6 심사문제: 높은 가격순으로 출력하기"
   ]
  },
  {
   "cell_type": "code",
   "execution_count": 55,
   "metadata": {},
   "outputs": [
    {
     "name": "stdout",
     "output_type": "stream",
     "text": [
      "1,304,000\n",
      "  367,500\n",
      "  250,000\n",
      "  158,000\n",
      "  128,500\n",
      "   83,000\n",
      "   59,200\n",
      "   51,900\n"
     ]
    }
   ],
   "source": [
    "s = list(map(int, input().split(';')))\n",
    "s.sort(reverse= True)\n",
    "for i in range(len(s)):\n",
    "    print(f'{s[i]:9,d}')"
   ]
  },
  {
   "cell_type": "code",
   "execution_count": 94,
   "metadata": {},
   "outputs": [
    {
     "data": {
      "text/plain": [
       "[51900, 83000, 158000, 367500, 250000, 59200, 128500, 1304000]"
      ]
     },
     "execution_count": 94,
     "metadata": {},
     "output_type": "execute_result"
    }
   ],
   "source": [
    "input_str = '51900;83000;158000;367500;250000;59200;128500;1304000'\n",
    "price_list = list(map(int, input_str.split(';')))\n",
    "price_list"
   ]
  },
  {
   "cell_type": "code",
   "execution_count": 95,
   "metadata": {},
   "outputs": [
    {
     "data": {
      "text/plain": [
       "[1304000, 367500, 250000, 158000, 128500, 83000, 59200, 51900]"
      ]
     },
     "execution_count": 95,
     "metadata": {},
     "output_type": "execute_result"
    }
   ],
   "source": [
    "price_list.sort(reverse=True)           # Decending Order(내림차순)\n",
    "price_list"
   ]
  },
  {
   "cell_type": "code",
   "execution_count": 96,
   "metadata": {},
   "outputs": [
    {
     "name": "stdout",
     "output_type": "stream",
     "text": [
      "1,304,000\n",
      "  367,500\n",
      "  250,000\n",
      "  158,000\n",
      "  128,500\n",
      "   83,000\n",
      "   59,200\n",
      "   51,900\n"
     ]
    }
   ],
   "source": [
    "for price in price_list:\n",
    "    print(f'{price:9,d}')"
   ]
  },
  {
   "cell_type": "markdown",
   "metadata": {},
   "source": [
    "### 25.8 심사문제: 딕셔너리에서 특정 값 삭제하기"
   ]
  },
  {
   "cell_type": "code",
   "execution_count": 69,
   "metadata": {},
   "outputs": [],
   "source": [
    "keys = input().split()\n",
    "values = map(int, input().split())\n",
    " \n",
    "x = dict(zip(keys, values))"
   ]
  },
  {
   "cell_type": "code",
   "execution_count": 70,
   "metadata": {},
   "outputs": [],
   "source": [
    "del x['delta']\n",
    "for key in x.keys():\n",
    "    if x[key] == 30:\n",
    "        del x[key]\n",
    "        break"
   ]
  },
  {
   "cell_type": "code",
   "execution_count": 71,
   "metadata": {},
   "outputs": [
    {
     "data": {
      "text/plain": [
       "{'alpha': 10, 'bravo': 20}"
      ]
     },
     "execution_count": 71,
     "metadata": {},
     "output_type": "execute_result"
    }
   ],
   "source": [
    "x"
   ]
  },
  {
   "cell_type": "code",
   "execution_count": 100,
   "metadata": {},
   "outputs": [
    {
     "data": {
      "text/plain": [
       "{'alpha': 10, 'bravo': 20, 'charlie': 30, 'delta': 40}"
      ]
     },
     "execution_count": 100,
     "metadata": {},
     "output_type": "execute_result"
    }
   ],
   "source": [
    "# alpha bravo charlie delta\n",
    "# 10 20 30 40\n",
    "keys = input().split()\n",
    "values = map(int, input().split())\n",
    "x = dict(zip(keys, values))\n",
    "x"
   ]
  },
  {
   "cell_type": "code",
   "execution_count": 101,
   "metadata": {},
   "outputs": [
    {
     "data": {
      "text/plain": [
       "{'alpha': 10, 'bravo': 20, 'charlie': 30}"
      ]
     },
     "execution_count": 101,
     "metadata": {},
     "output_type": "execute_result"
    }
   ],
   "source": [
    "del x['delta']\n",
    "x"
   ]
  },
  {
   "cell_type": "code",
   "execution_count": 103,
   "metadata": {},
   "outputs": [
    {
     "name": "stdout",
     "output_type": "stream",
     "text": [
      "{'alpha': 10, 'bravo': 20}\n"
     ]
    }
   ],
   "source": [
    "for key, value in x.items():\n",
    "    if value == 30:\n",
    "        break                       # 반복문에서 반복 대상이 되는 딕셔너리의 크기를 변경시키는 작업을 하면 안됨.\n",
    "x.pop(key)\n",
    "print(x)"
   ]
  },
  {
   "cell_type": "code",
   "execution_count": 109,
   "metadata": {},
   "outputs": [
    {
     "name": "stdout",
     "output_type": "stream",
     "text": [
      "[10, 20, 40]\n"
     ]
    }
   ],
   "source": [
    "# 예를 들면... \n",
    "d = {'a': 10, 'b': 20, 'c': 30}\n",
    "#for key, value in d.items():\n",
    "    #if value == 10:\n",
    "        #del d[i] => Error\n",
    "\n",
    "# But 리스트 가능***\n",
    "l = [10, 20, 30, 40]\n",
    "for i, val in enumerate(l):\n",
    "    if val == 30:\n",
    "        del l[i]\n",
    "print(l)"
   ]
  },
  {
   "cell_type": "markdown",
   "metadata": {},
   "source": [
    "### 26.9 심사문제: 공약수 구하기"
   ]
  },
  {
   "cell_type": "code",
   "execution_count": 89,
   "metadata": {},
   "outputs": [],
   "source": [
    "num1, num2 = map(int, input().split())\n",
    "a = {i for i in range(1, num1 + 1) if num1 % i == 0}\n",
    "b = {i for i in range(1, num2 + 1) if num1 % i == 0}"
   ]
  },
  {
   "cell_type": "code",
   "execution_count": 90,
   "metadata": {},
   "outputs": [
    {
     "name": "stdout",
     "output_type": "stream",
     "text": [
      "18\n"
     ]
    }
   ],
   "source": [
    "divisor = a & b\n",
    " \n",
    "result = 0\n",
    "if type(divisor) == set:\n",
    "    result = sum(divisor)\n",
    " \n",
    "print(result)"
   ]
  },
  {
   "cell_type": "code",
   "execution_count": 105,
   "metadata": {},
   "outputs": [
    {
     "data": {
      "text/plain": [
       "{1, 2, 5, 10}"
      ]
     },
     "execution_count": 105,
     "metadata": {},
     "output_type": "execute_result"
    }
   ],
   "source": [
    "#약수의 집합\n",
    "div_set = set()\n",
    "x = 10\n",
    "for i in range(1, x+1):\n",
    "    if x % i == 0:\n",
    "        div_set.add(i)\n",
    "div_set"
   ]
  },
  {
   "cell_type": "code",
   "execution_count": 106,
   "metadata": {},
   "outputs": [
    {
     "data": {
      "text/plain": [
       "{1, 2, 5, 10}"
      ]
     },
     "execution_count": 106,
     "metadata": {},
     "output_type": "execute_result"
    }
   ],
   "source": [
    "# 표현식\n",
    "div_set = {i for i in range(1, x+1) if x % i == 0}\n",
    "div_set"
   ]
  },
  {
   "cell_type": "code",
   "execution_count": 107,
   "metadata": {},
   "outputs": [
    {
     "name": "stdout",
     "output_type": "stream",
     "text": [
      "{1, 2, 10, 5} {1, 2, 4, 5, 10, 20}\n"
     ]
    }
   ],
   "source": [
    "x, y = map(int, input().split())\n",
    "a = {i for i in range(1, x+1) if x % i == 0}\n",
    "b = {i for i in range(1, y+1) if y % i == 0}\n",
    "print( a, b)"
   ]
  },
  {
   "cell_type": "code",
   "execution_count": 108,
   "metadata": {},
   "outputs": [
    {
     "name": "stdout",
     "output_type": "stream",
     "text": [
      "18\n"
     ]
    }
   ],
   "source": [
    "common_divisor = a & b\n",
    "\n",
    "if type(common_divisor) == set:\n",
    "    result = sum(common_divisor)\n",
    "\n",
    "print(result)"
   ]
  }
 ],
 "metadata": {
  "interpreter": {
   "hash": "2416f014eda44098b06ac223510cfbf712f6c3c49a2a2784b81e5eb971c53cd7"
  },
  "kernelspec": {
   "display_name": "Python 3.7.1 ('base')",
   "language": "python",
   "name": "python3"
  },
  "language_info": {
   "codemirror_mode": {
    "name": "ipython",
    "version": 3
   },
   "file_extension": ".py",
   "mimetype": "text/x-python",
   "name": "python",
   "nbconvert_exporter": "python",
   "pygments_lexer": "ipython3",
   "version": "3.7.1"
  },
  "orig_nbformat": 4
 },
 "nbformat": 4,
 "nbformat_minor": 2
}
