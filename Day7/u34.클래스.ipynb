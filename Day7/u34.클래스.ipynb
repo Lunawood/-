{
 "cells": [
  {
   "cell_type": "markdown",
   "metadata": {},
   "source": [
    "# Unit 34. 클래스(Class)\n",
    "### 34.1 클래스와 메소드 만들기"
   ]
  },
  {
   "cell_type": "code",
   "execution_count": null,
   "metadata": {},
   "outputs": [],
   "source": [
    "# 객체(Object)\n",
    "    # - 속성(attribute) -> 제조사, 모델, 배기량, 색깔, ...\n",
    "    # - 행위(method) -> 전진, 후진, 가속, 감속, 좌회전, 우회전, 경적, ...\n",
    "# 승용차, 승합차, 픽업트럭, ...Java Python\n",
    "    # 1. 상속(Inheritance)\n",
    "        # - 프로그램 세계에서는 자식이 부모를 선택해서 상속을 받는다.\n",
    "        # - 부모의 속성값, 행위(method)를 상속 받음.\n",
    "    # 2. 캡슐화(Encapsulation)\n",
    "        # - 데이터를 보호\n",
    "        # - ex) Account, 잔액 : Teller, ATM, 송금(지로), 이자\n",
    "    # 3. 다형성(Polymorphism)\n",
    "        # - 부모가 만들어 놓은 메소드 - 자식이 내 기능에 맞게 변경하는 것\n",
    "        # - mothod overriding  (Java는 overloading도 필요)"
   ]
  },
  {
   "cell_type": "code",
   "execution_count": 1,
   "metadata": {},
   "outputs": [],
   "source": [
    "class Person:           # 클래스 이름은 대문자로 시작\n",
    "    def greeting(self):     # 메서드(행위)의 첫번쨰 인자는 무조건 self\n",
    "        print(\"Hello\")"
   ]
  },
  {
   "cell_type": "code",
   "execution_count": 4,
   "metadata": {},
   "outputs": [],
   "source": [
    "# 클래스의 인스턴스(객체)를 만들어야 클래스를 사용할 수 있음\n",
    "james = Person()            # 생성자(Constructor) 함수\n",
    "maria = Person()"
   ]
  },
  {
   "cell_type": "code",
   "execution_count": 6,
   "metadata": {},
   "outputs": [
    {
     "name": "stdout",
     "output_type": "stream",
     "text": [
      "Hello\n",
      "Hello\n"
     ]
    },
    {
     "data": {
      "text/plain": [
       "(None, None)"
      ]
     },
     "execution_count": 6,
     "metadata": {},
     "output_type": "execute_result"
    }
   ],
   "source": [
    "james.greeting(), maria.greeting()"
   ]
  },
  {
   "cell_type": "code",
   "execution_count": 7,
   "metadata": {},
   "outputs": [
    {
     "name": "stdout",
     "output_type": "stream",
     "text": [
      "Hello\n"
     ]
    }
   ],
   "source": [
    "Person().greeting()"
   ]
  },
  {
   "cell_type": "markdown",
   "metadata": {},
   "source": [
    "- 클래스 내에서 메소드 호출하기"
   ]
  },
  {
   "cell_type": "code",
   "execution_count": 10,
   "metadata": {},
   "outputs": [],
   "source": [
    "class Person:\n",
    "    def greeting(self):\n",
    "        print('Hello')\n",
    "    def hello(self):\n",
    "        self.greeting()             # 클래스 내에서 속성이나 메소드를 참조할때는 self.xxx 한다."
   ]
  },
  {
   "cell_type": "code",
   "execution_count": 11,
   "metadata": {},
   "outputs": [
    {
     "name": "stdout",
     "output_type": "stream",
     "text": [
      "Hello\n"
     ]
    }
   ],
   "source": [
    "james = Person()\n",
    "james.hello()"
   ]
  },
  {
   "cell_type": "markdown",
   "metadata": {},
   "source": [
    "- 특정 클래스의 인스턴스인지 확인하기"
   ]
  },
  {
   "cell_type": "code",
   "execution_count": 8,
   "metadata": {},
   "outputs": [
    {
     "data": {
      "text/plain": [
       "True"
      ]
     },
     "execution_count": 8,
     "metadata": {},
     "output_type": "execute_result"
    }
   ],
   "source": [
    "isinstance(james, Person)       # james는 Person class에서 할당을 받았나? -> True"
   ]
  },
  {
   "cell_type": "code",
   "execution_count": 12,
   "metadata": {},
   "outputs": [],
   "source": [
    "# 음수와 실수에 대한 대비가 없다.\n",
    "def fact(n):\n",
    "    if n == 0:\n",
    "        return 1\n",
    "    return n * fact(n-1)"
   ]
  },
  {
   "cell_type": "code",
   "execution_count": 22,
   "metadata": {},
   "outputs": [],
   "source": [
    "def factorial(n):\n",
    "    if not isinstance(n, int) or n < 0:           # n이 정수가 아니면...\n",
    "        return None\n",
    "    if n == 0:\n",
    "        return 1\n",
    "    return n * factorial(n-1)"
   ]
  },
  {
   "cell_type": "code",
   "execution_count": 23,
   "metadata": {},
   "outputs": [
    {
     "data": {
      "text/plain": [
       "(None, None)"
      ]
     },
     "execution_count": 23,
     "metadata": {},
     "output_type": "execute_result"
    }
   ],
   "source": [
    "factorial(1.3), factorial(-4)"
   ]
  },
  {
   "cell_type": "code",
   "execution_count": 24,
   "metadata": {},
   "outputs": [
    {
     "data": {
      "text/plain": [
       "120"
      ]
     },
     "execution_count": 24,
     "metadata": {},
     "output_type": "execute_result"
    }
   ],
   "source": [
    "factorial(5)"
   ]
  },
  {
   "cell_type": "markdown",
   "metadata": {},
   "source": [
    "### 34.2 속성(Attribute)"
   ]
  },
  {
   "cell_type": "code",
   "execution_count": 25,
   "metadata": {},
   "outputs": [],
   "source": [
    "class Person:\n",
    "    def __init__(self):\n",
    "        self.hello = '안녕하세요?'          # self가 속성이 된다.\n",
    "    def greeting(self):\n",
    "        print(self.hello)"
   ]
  },
  {
   "cell_type": "code",
   "execution_count": 26,
   "metadata": {},
   "outputs": [
    {
     "name": "stdout",
     "output_type": "stream",
     "text": [
      "안녕하세요?\n"
     ]
    }
   ],
   "source": [
    "maria = Person()\n",
    "maria.greeting()"
   ]
  },
  {
   "cell_type": "code",
   "execution_count": 30,
   "metadata": {},
   "outputs": [],
   "source": [
    "maria.hello = \"How are you?\"             # 속성값을 밖에서 변경 가능"
   ]
  },
  {
   "cell_type": "code",
   "execution_count": 31,
   "metadata": {},
   "outputs": [
    {
     "name": "stdout",
     "output_type": "stream",
     "text": [
      "How are you?\n"
     ]
    }
   ],
   "source": [
    "maria.greeting()"
   ]
  },
  {
   "cell_type": "code",
   "execution_count": 33,
   "metadata": {},
   "outputs": [
    {
     "name": "stdout",
     "output_type": "stream",
     "text": [
      "Good afternoon!\n"
     ]
    }
   ],
   "source": [
    "james = Person()\n",
    "james.hello = \"Good afternoon!\"\n",
    "james.greeting()"
   ]
  },
  {
   "cell_type": "code",
   "execution_count": 55,
   "metadata": {},
   "outputs": [],
   "source": [
    "class Person:\n",
    "    # 생성자 함수\n",
    "    def __init__(self, name, age, address):\n",
    "        self.hello = '안녕하세요?'\n",
    "        self.name = name\n",
    "        self.age = age\n",
    "        self.address = address\n",
    "    def greeting(self):\n",
    "        print(f'{self.hello} 저는 {self.name} 입니다.')\n",
    "    # JAVA의 toString() method\n",
    "    def __str__(self):\n",
    "        return f'hello: {self.hello}, name: {self.name}, age: {self.age}, address: {self.address}'"
   ]
  },
  {
   "cell_type": "code",
   "execution_count": 56,
   "metadata": {},
   "outputs": [
    {
     "name": "stdout",
     "output_type": "stream",
     "text": [
      "안녕하세요? 저는 마리아 입니다.\n"
     ]
    }
   ],
   "source": [
    "maria = Person('마리아', 23, '서울시 서초구 서초동')\n",
    "maria.greeting()"
   ]
  },
  {
   "cell_type": "code",
   "execution_count": 50,
   "metadata": {},
   "outputs": [
    {
     "name": "stdout",
     "output_type": "stream",
     "text": [
      "반갑습니다. 저는 마리아 입니다.\n"
     ]
    }
   ],
   "source": [
    "maria.hello = '반갑습니다.'\n",
    "maria.greeting()"
   ]
  },
  {
   "cell_type": "code",
   "execution_count": 51,
   "metadata": {},
   "outputs": [
    {
     "name": "stdout",
     "output_type": "stream",
     "text": [
      "<__main__.Person object at 0x00000246B6761B70>\n"
     ]
    }
   ],
   "source": [
    "# __str__ method 만들기 전\n",
    "print(maria)"
   ]
  },
  {
   "cell_type": "code",
   "execution_count": 57,
   "metadata": {},
   "outputs": [
    {
     "name": "stdout",
     "output_type": "stream",
     "text": [
      "hello: 안녕하세요?, name: 마리아, age: 23, address: 서울시 서초구 서초동\n"
     ]
    }
   ],
   "source": [
    "# __str__ method 만든 후\n",
    "print(maria)"
   ]
  },
  {
   "cell_type": "code",
   "execution_count": 61,
   "metadata": {},
   "outputs": [
    {
     "name": "stdout",
     "output_type": "stream",
     "text": [
      "hello: 반갑습니다, name: james, age: 23, address: 서울시 서초구 서초동\n"
     ]
    }
   ],
   "source": [
    "maria.hello = '반갑습니다'\n",
    "print(maria)"
   ]
  },
  {
   "cell_type": "markdown",
   "metadata": {},
   "source": [
    "### 34.3 비공개 속성"
   ]
  },
  {
   "cell_type": "code",
   "execution_count": 62,
   "metadata": {},
   "outputs": [
    {
     "name": "stdout",
     "output_type": "stream",
     "text": [
      "hello: 반갑습니다, name: james, age: 23, address: 서울시 서초구 서초동\n"
     ]
    }
   ],
   "source": [
    "print(maria)            # 공개 속성으로 "
   ]
  },
  {
   "cell_type": "code",
   "execution_count": 81,
   "metadata": {},
   "outputs": [],
   "source": [
    "class Person:\n",
    "    def __init__(self, name, age, addr, wallet):\n",
    "        self.name = name\n",
    "        self.age = age\n",
    "        self.addr = addr\n",
    "        self.__wallet = wallet          # __가 붙으면 비공개 속성이 됨"
   ]
  },
  {
   "cell_type": "code",
   "execution_count": 82,
   "metadata": {},
   "outputs": [],
   "source": [
    "james = Person('제임스', 25, '서울시 서초구 반포동', 10000)"
   ]
  },
  {
   "cell_type": "code",
   "execution_count": 83,
   "metadata": {},
   "outputs": [
    {
     "ename": "AttributeError",
     "evalue": "'Person' object has no attribute '__wallet'",
     "output_type": "error",
     "traceback": [
      "\u001b[1;31m---------------------------------------------------------------------------\u001b[0m",
      "\u001b[1;31mAttributeError\u001b[0m                            Traceback (most recent call last)",
      "\u001b[1;32m<ipython-input-83-f497623946db>\u001b[0m in \u001b[0;36m<module>\u001b[1;34m\u001b[0m\n\u001b[1;32m----> 1\u001b[1;33m \u001b[0mjames\u001b[0m\u001b[1;33m.\u001b[0m\u001b[0m__wallet\u001b[0m\u001b[1;33m\u001b[0m\u001b[1;33m\u001b[0m\u001b[0m\n\u001b[0m",
      "\u001b[1;31mAttributeError\u001b[0m: 'Person' object has no attribute '__wallet'"
     ]
    }
   ],
   "source": [
    "james.__wallet"
   ]
  },
  {
   "cell_type": "code",
   "execution_count": 88,
   "metadata": {},
   "outputs": [],
   "source": [
    "class Person:\n",
    "    def __init__(self, name, age, addr, wallet):\n",
    "        self.name = name\n",
    "        self.age = age\n",
    "        self.addr = addr\n",
    "        self.__wallet = wallet          # __가 붙으면 비공개 속성이 됨\n",
    "\n",
    "    def pay(self, amount):\n",
    "        if self.__wallet < amount:\n",
    "            print('지갑에 돈이 부족합니다.ㅠㅠ')\n",
    "            return\n",
    "        self.__wallet -= amount\n",
    "        print(f'지갑에 남은 돈은 {self.__wallet:,d}원 입니다.')\n",
    "\n",
    "    def __greeting(self):\n",
    "        print('Hello')\n",
    "    def hello(self):\n",
    "        self.__greeting()"
   ]
  },
  {
   "cell_type": "code",
   "execution_count": 91,
   "metadata": {},
   "outputs": [
    {
     "name": "stdout",
     "output_type": "stream",
     "text": [
      "지갑에 남은 돈은 7,500원 입니다.\n"
     ]
    }
   ],
   "source": [
    "james = Person('제임스', 25, '서울시 서초구 반포동', 10000)\n",
    "james.pay(2500)"
   ]
  },
  {
   "cell_type": "code",
   "execution_count": 92,
   "metadata": {},
   "outputs": [
    {
     "name": "stdout",
     "output_type": "stream",
     "text": [
      "지갑에 돈이 부족합니다.ㅠㅠ\n"
     ]
    }
   ],
   "source": [
    "james.pay(8000)"
   ]
  },
  {
   "cell_type": "code",
   "execution_count": 93,
   "metadata": {},
   "outputs": [
    {
     "ename": "AttributeError",
     "evalue": "'Person' object has no attribute '__greeting'",
     "output_type": "error",
     "traceback": [
      "\u001b[1;31m---------------------------------------------------------------------------\u001b[0m",
      "\u001b[1;31mAttributeError\u001b[0m                            Traceback (most recent call last)",
      "\u001b[1;32m<ipython-input-93-294fe1420d26>\u001b[0m in \u001b[0;36m<module>\u001b[1;34m\u001b[0m\n\u001b[1;32m----> 1\u001b[1;33m \u001b[0mjames\u001b[0m\u001b[1;33m.\u001b[0m\u001b[0m__greeting\u001b[0m\u001b[1;33m(\u001b[0m\u001b[1;33m)\u001b[0m\u001b[1;33m\u001b[0m\u001b[1;33m\u001b[0m\u001b[0m\n\u001b[0m",
      "\u001b[1;31mAttributeError\u001b[0m: 'Person' object has no attribute '__greeting'"
     ]
    }
   ],
   "source": [
    "# 비공개 메소드\n",
    "james.__greeting()"
   ]
  },
  {
   "cell_type": "code",
   "execution_count": 94,
   "metadata": {},
   "outputs": [
    {
     "name": "stdout",
     "output_type": "stream",
     "text": [
      "Hello\n"
     ]
    }
   ],
   "source": [
    "james.hello()"
   ]
  },
  {
   "cell_type": "markdown",
   "metadata": {},
   "source": [
    "### 연습문제\n",
    "- class Tmoney"
   ]
  },
  {
   "cell_type": "code",
   "execution_count": 103,
   "metadata": {},
   "outputs": [],
   "source": [
    "class Tmoney:\n",
    "    def __init__(self, age, balance):\n",
    "        self.age = age\n",
    "        self.__balance = balance\n",
    "\n",
    "    def pay(self):\n",
    "        if 7 <= self.age <= 12:\n",
    "            fare = 650\n",
    "        elif 13 <= self.age <= 18:\n",
    "            fare = 1050\n",
    "        elif self.age >= 19:\n",
    "            fare = 1250\n",
    "        else:\n",
    "            fare = 0\n",
    "\n",
    "        if self.__balance < fare:\n",
    "            print('잔액이 부족합니다.ㅠㅠ')\n",
    "            return\n",
    "        self.__balance -= fare\n",
    "        print(f'{self.age}살의 요금은 {fare:,d}원이고, 잔액은 {self.__balance:,d}원입니다.')"
   ]
  },
  {
   "cell_type": "code",
   "execution_count": 107,
   "metadata": {},
   "outputs": [
    {
     "name": "stdout",
     "output_type": "stream",
     "text": [
      "30살의 요금은 1,250원이고, 잔액은 8,750원입니다.\n"
     ]
    }
   ],
   "source": [
    "card = Tmoney(30, 10000)\n",
    "card.pay()"
   ]
  },
  {
   "cell_type": "code",
   "execution_count": 108,
   "metadata": {},
   "outputs": [
    {
     "name": "stdout",
     "output_type": "stream",
     "text": [
      "30살의 요금은 1,250원이고, 잔액은 8,750원입니다.\n",
      "30살의 요금은 1,250원이고, 잔액은 7,500원입니다.\n",
      "30살의 요금은 1,250원이고, 잔액은 6,250원입니다.\n",
      "30살의 요금은 1,250원이고, 잔액은 5,000원입니다.\n",
      "30살의 요금은 1,250원이고, 잔액은 3,750원입니다.\n",
      "30살의 요금은 1,250원이고, 잔액은 2,500원입니다.\n",
      "30살의 요금은 1,250원이고, 잔액은 1,250원입니다.\n",
      "30살의 요금은 1,250원이고, 잔액은 0원입니다.\n",
      "잔액이 부족합니다.ㅠㅠ\n",
      "잔액이 부족합니다.ㅠㅠ\n"
     ]
    }
   ],
   "source": [
    "card = Tmoney(30, 10000)\n",
    "for i in range(10):\n",
    "    card.pay()"
   ]
  },
  {
   "cell_type": "markdown",
   "metadata": {},
   "source": [
    "- 교통카드"
   ]
  },
  {
   "cell_type": "code",
   "execution_count": 111,
   "metadata": {},
   "outputs": [],
   "source": [
    "class Tcard:\n",
    "    def __init__(self, balance):\n",
    "        self.__balance = balance\n",
    "        \n",
    "    def pay(self):\n",
    "        fare = 1350\n",
    "        if self.__balance < fare:\n",
    "            print(f'요금이 부족합니다. 더 충전해주세요')\n",
    "            return\n",
    "        self.__balance -= fare\n",
    "        print(f'남은 요금은 {self.__balance:,d}원입니다.')"
   ]
  },
  {
   "cell_type": "code",
   "execution_count": 112,
   "metadata": {},
   "outputs": [
    {
     "name": "stdout",
     "output_type": "stream",
     "text": [
      "남은 요금은 8,650원입니다.\n"
     ]
    }
   ],
   "source": [
    "T = Tcard(10000)\n",
    "T.pay()"
   ]
  },
  {
   "cell_type": "code",
   "execution_count": 117,
   "metadata": {},
   "outputs": [],
   "source": [
    "class Tcard:\n",
    "    def __init__(self, balance):\n",
    "        self.__balance = balance\n",
    "    \n",
    "    def get_balance(self):          # getter\n",
    "        return self.__balance\n",
    "    \n",
    "    def pay(self, fare = 1350):\n",
    "        if self.__balance < fare:\n",
    "            print('잔액이 부족합니다.ㅠㅠ')\n",
    "            return\n",
    "        self.__balance -= fare\n",
    "        print(f'잔액: {self.__balance:,d}원입니다.')"
   ]
  },
  {
   "cell_type": "code",
   "execution_count": 118,
   "metadata": {},
   "outputs": [
    {
     "name": "stdout",
     "output_type": "stream",
     "text": [
      "잔액: 8,650원입니다.\n",
      "잔액: 7,300원입니다.\n",
      "잔액: 5,950원입니다.\n",
      "잔액: 4,600원입니다.\n",
      "잔액: 3,250원입니다.\n",
      "잔액: 1,900원입니다.\n",
      "잔액: 550원입니다.\n"
     ]
    }
   ],
   "source": [
    "card = Tcard(10000)\n",
    "fare =1350\n",
    "while card.get_balance() >= fare:\n",
    "    card.pay()"
   ]
  },
  {
   "cell_type": "code",
   "execution_count": null,
   "metadata": {},
   "outputs": [],
   "source": []
  }
 ],
 "metadata": {
  "interpreter": {
   "hash": "2416f014eda44098b06ac223510cfbf712f6c3c49a2a2784b81e5eb971c53cd7"
  },
  "kernelspec": {
   "display_name": "Python 3.7.1 ('base')",
   "language": "python",
   "name": "python3"
  },
  "language_info": {
   "codemirror_mode": {
    "name": "ipython",
    "version": 3
   },
   "file_extension": ".py",
   "mimetype": "text/x-python",
   "name": "python",
   "nbconvert_exporter": "python",
   "pygments_lexer": "ipython3",
   "version": "3.7.1"
  },
  "orig_nbformat": 4
 },
 "nbformat": 4,
 "nbformat_minor": 2
}
