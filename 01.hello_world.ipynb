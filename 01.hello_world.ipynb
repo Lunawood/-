{
 "cells": [
  {
   "cell_type": "markdown",
   "metadata": {},
   "source": [
    "# 이수자 평가 박찬준"
   ]
  },
  {
   "cell_type": "code",
   "execution_count": 34,
   "metadata": {},
   "outputs": [],
   "source": [
    "def name(Me, You):\n",
    "    if(Me['age'] == You['age']):\n",
    "        print('동무')\n",
    "    elif(Me['age'] < You['age']):\n",
    "        if(Me['sex'] == 'male' and You['sex'] == 'female'):\n",
    "            print('누나')\n",
    "        if(Me['sex'] == 'male' and You['sex'] == 'male'):\n",
    "            print('형')\n",
    "        if(Me['sex'] == 'female' and You['sex'] == 'male'):\n",
    "            print('오빠')\n",
    "        if(Me['sex'] == 'female' and You['sex'] == 'female'):\n",
    "            print('언니')\n",
    "    elif(Me['age'] > You['age']):\n",
    "        if(You['sex'] == 'male'):\n",
    "            print('남동생')\n",
    "        if(You['sex'] == 'female'):\n",
    "            print('여동생')"
   ]
  },
  {
   "cell_type": "code",
   "execution_count": 35,
   "metadata": {},
   "outputs": [
    {
     "name": "stdout",
     "output_type": "stream",
     "text": [
      "누나\n"
     ]
    }
   ],
   "source": [
    "Me = {}\n",
    "You = {}\n",
    "age, sex = input('나의 나이, 성별:').split(', ')\n",
    "Me['age'] = int(age)\n",
    "Me['sex'] = str(sex[1:-1])\n",
    "age, sex = input('상대의 나이, 성별:').split(', ')\n",
    "You['age'] = int(age)\n",
    "You['sex'] = str(sex[1:-1])\n",
    "\n",
    "name(Me, You)"
   ]
  },
  {
   "cell_type": "code",
   "execution_count": null,
   "metadata": {},
   "outputs": [],
   "source": []
  }
 ],
 "metadata": {
  "kernelspec": {
   "display_name": "Python 3.9.12 ('base')",
   "language": "python",
   "name": "python3"
  },
  "language_info": {
   "codemirror_mode": {
    "name": "ipython",
    "version": 3
   },
   "file_extension": ".py",
   "mimetype": "text/x-python",
   "name": "python",
   "nbconvert_exporter": "python",
   "pygments_lexer": "ipython3",
   "version": "3.9.12"
  },
  "orig_nbformat": 4,
  "vscode": {
   "interpreter": {
    "hash": "68b27da7ddeb61625eb32b27b233f0587b7aa507dfa408f4f61141179036d5a9"
   }
  }
 },
 "nbformat": 4,
 "nbformat_minor": 2
}
