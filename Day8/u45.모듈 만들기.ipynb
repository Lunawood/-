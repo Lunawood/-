{
 "cells": [
  {
   "cell_type": "markdown",
   "metadata": {},
   "source": [
    "# Unit 45. 모듈과 패키지 만들기\n",
    "### 45.1 모듈 만들기"
   ]
  },
  {
   "cell_type": "code",
   "execution_count": 1,
   "metadata": {},
   "outputs": [
    {
     "name": "stdout",
     "output_type": "stream",
     "text": [
      "2\n",
      "1024\n"
     ]
    }
   ],
   "source": [
    "import u45_square2 as sq\n",
    "print(sq.base)\n",
    "print(sq.square(10))"
   ]
  },
  {
   "cell_type": "code",
   "execution_count": 2,
   "metadata": {},
   "outputs": [
    {
     "name": "stdout",
     "output_type": "stream",
     "text": [
      "1.4142135623730951\n"
     ]
    }
   ],
   "source": [
    "print(sq.sqrt(2))"
   ]
  },
  {
   "cell_type": "markdown",
   "metadata": {},
   "source": [
    "##### vsCode에서는 자신의 컴퓨터가 window일때 window 명령어를 써준다."
   ]
  },
  {
   "cell_type": "code",
   "execution_count": 9,
   "metadata": {},
   "outputs": [
    {
     "name": "stdout",
     "output_type": "stream",
     "text": [
      " D ����̺��� ����: ���� ��ũ\n",
      " ���� �Ϸ� ��ȣ: 1034-918C\n",
      "\n",
      " d:\\������ī����\\workspace\\Day8 ���͸�\n",
      "\n",
      "2022-04-04  ���� 12:29    <DIR>          .\n",
      "2022-04-04  ���� 12:29    <DIR>          ..\n",
      "2022-04-04  ���� 12:26             2,645 account_����ó��.py\n",
      "2022-04-04  ���� 11:52             7,454 u38.����ó��.ipynb\n",
      "2022-04-04  ���� 12:02             6,186 u44. ������Ű��.ipynb\n",
      "2022-04-04  ���� 12:28             2,179 u45.��� �����.ipynb\n",
      "2022-04-04  ���� 12:27                92 u45_square2.py\n",
      "2022-04-04  ���� 12:29    <DIR>          __pycache__\n",
      "               5�� ����              18,556 ����Ʈ\n",
      "               3�� ���͸�  952,758,513,664 ����Ʈ ����\n"
     ]
    }
   ],
   "source": [
    "!dir            "
   ]
  },
  {
   "cell_type": "markdown",
   "metadata": {},
   "source": [
    "- 클래스"
   ]
  },
  {
   "cell_type": "code",
   "execution_count": 13,
   "metadata": {},
   "outputs": [
    {
     "name": "stdout",
     "output_type": "stream",
     "text": [
      "안녕하세요. 저는 제임스입니다.\n"
     ]
    }
   ],
   "source": [
    "import u45_person\n",
    "james = u45_person.Person('제임스', 25, '서울시 서초구 반포동')\n",
    "james.greeting()"
   ]
  },
  {
   "cell_type": "markdown",
   "metadata": {},
   "source": [
    "### 45.2 모듈과 시작점"
   ]
  },
  {
   "cell_type": "code",
   "execution_count": 1,
   "metadata": {},
   "outputs": [
    {
     "name": "stdout",
     "output_type": "stream",
     "text": [
      "hello 모듈 시작\n",
      "hello.py __name__ u45_hello\n",
      "hello 모듈 끝\n"
     ]
    },
    {
     "data": {
      "text/plain": [
       "'__main__'"
      ]
     },
     "execution_count": 1,
     "metadata": {},
     "output_type": "execute_result"
    }
   ],
   "source": [
    "import u45_hello\n",
    "__name__"
   ]
  },
  {
   "cell_type": "markdown",
   "metadata": {},
   "source": [
    "- Account"
   ]
  },
  {
   "cell_type": "code",
   "execution_count": 1,
   "metadata": {},
   "outputs": [],
   "source": [
    "import account_예외처리 as acc"
   ]
  },
  {
   "cell_type": "code",
   "execution_count": 2,
   "metadata": {},
   "outputs": [
    {
     "name": "stdout",
     "output_type": "stream",
     "text": [
      "\n",
      "계좌번호: 123456, 소유주: 제임스, 잔액: 1,100,000\n",
      "\n"
     ]
    }
   ],
   "source": [
    "while True:\n",
    "    try:\n",
    "        menu = int(input('1:계좌생성, 2:계좌목록, 3:입금, 4:출금, 5:종료> '))\n",
    "    except:\n",
    "        print('잘못된 명령어입니다.\\n')\n",
    "        continue\n",
    "    \n",
    "    if menu == 5:\n",
    "        break\n",
    "    if menu == 1:\n",
    "        acc.create_account()\n",
    "    elif menu == 2:\n",
    "        for account in acc.acc_list:\n",
    "            print(account)\n",
    "    elif menu == 3:\n",
    "        acc.deposit_account()\n",
    "    elif menu == 4:\n",
    "        acc.withdraw_account()\n",
    "    else:\n",
    "        print('잘못된 명령어입니다.')\n",
    "\n",
    "    print()"
   ]
  },
  {
   "cell_type": "markdown",
   "metadata": {},
   "source": [
    "### 45.3 패키지 만들기"
   ]
  },
  {
   "cell_type": "code",
   "execution_count": 5,
   "metadata": {},
   "outputs": [
    {
     "name": "stdout",
     "output_type": "stream",
     "text": [
      "hello 모듈 시작\n",
      "hello.py __name__ u45_hello\n",
      "hello 모듈 끝\n"
     ]
    }
   ],
   "source": [
    "import u45_hello"
   ]
  },
  {
   "cell_type": "code",
   "execution_count": 6,
   "metadata": {},
   "outputs": [
    {
     "name": "stdout",
     "output_type": "stream",
     "text": [
      "30\n",
      "200\n",
      "600.0\n",
      "1200\n"
     ]
    }
   ],
   "source": [
    "import calcpkg.geometry\n",
    "import calcpkg.operation\n",
    "\n",
    "print(calcpkg.operation.add(10, 20))\n",
    "print(calcpkg.operation.mul(10, 20))\n",
    "\n",
    "print(calcpkg.geometry.triangle_area(30, 40))\n",
    "print(calcpkg.geometry.rectangle_area(30, 40))"
   ]
  },
  {
   "cell_type": "markdown",
   "metadata": {},
   "source": [
    "### 45.4 패키지에서 from import 사용"
   ]
  },
  {
   "cell_type": "code",
   "execution_count": 8,
   "metadata": {},
   "outputs": [
    {
     "name": "stdout",
     "output_type": "stream",
     "text": [
      "30\n",
      "200\n",
      "600.0\n",
      "1200\n"
     ]
    }
   ],
   "source": [
    "from calcpkg.operation import add, mul\n",
    "from calcpkg.geometry import triangle_area, rectangle_area\n",
    "\n",
    "print(add(10, 20))\n",
    "print(mul(10, 20))\n",
    "\n",
    "print(triangle_area(30, 40))\n",
    "print(rectangle_area(30, 40))"
   ]
  },
  {
   "cell_type": "code",
   "execution_count": null,
   "metadata": {},
   "outputs": [],
   "source": []
  }
 ],
 "metadata": {
  "interpreter": {
   "hash": "2416f014eda44098b06ac223510cfbf712f6c3c49a2a2784b81e5eb971c53cd7"
  },
  "kernelspec": {
   "display_name": "Python 3.7.1 ('base')",
   "language": "python",
   "name": "python3"
  },
  "language_info": {
   "codemirror_mode": {
    "name": "ipython",
    "version": 3
   },
   "file_extension": ".py",
   "mimetype": "text/x-python",
   "name": "python",
   "nbconvert_exporter": "python",
   "pygments_lexer": "ipython3",
   "version": "3.7.1"
  },
  "orig_nbformat": 4
 },
 "nbformat": 4,
 "nbformat_minor": 2
}
