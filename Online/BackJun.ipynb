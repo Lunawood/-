{
 "cells": [
  {
   "cell_type": "markdown",
   "metadata": {},
   "source": [
    "### 10039번 평균 점수\n",
    "<pre>\n",
    "문제\n",
    "상현이가 가르치는 아이폰 앱 개발 수업의 수강생은 원섭, 세희, 상근, 숭, 강수이다.\n",
    "\n",
    "어제 이 수업의 기말고사가 있었고, 상현이는 지금 학생들의 기말고사 시험지를 채점하고 있다. \n",
    "기말고사 점수가 40점 이상인 학생들은 그 점수 그대로 자신의 성적이 된다. \n",
    "하지만, 40점 미만인 학생들은 보충학습을 듣는 조건을 수락하면 40점을 받게 된다. \n",
    "보충학습은 거부할 수 없기 때문에, 40점 미만인 학생들은 항상 40점을 받게 된다.\n",
    "\n",
    "학생 5명의 점수가 주어졌을 때, 평균 점수를 구하는 프로그램을 작성하시오.\n",
    "\n",
    "입력\n",
    "입력은 총 5줄로 이루어져 있고, 원섭이의 점수, 세희의 점수, 상근이의 점수, 숭이의 점수, 강수의 점수가 순서대로 주어진다.\n",
    "\n",
    "점수는 모두 0점 이상, 100점 이하인 5의 배수이다. 따라서, 평균 점수는 항상 정수이다. \n",
    "</pre>"
   ]
  },
  {
   "cell_type": "code",
   "execution_count": 50,
   "metadata": {},
   "outputs": [
    {
     "name": "stdout",
     "output_type": "stream",
     "text": [
      "89\n"
     ]
    }
   ],
   "source": [
    "def average(arg_list):\n",
    "    for arg in arg_list:\n",
    "        if arg < 40:\n",
    "            arg_list[arg_list.index(arg)] = 40\n",
    "    return int(sum(arg_list)/len(arg_list))\n",
    "print(average(list(map(int, input().split()))))\n"
   ]
  },
  {
   "cell_type": "code",
   "execution_count": 38,
   "metadata": {},
   "outputs": [
    {
     "name": "stdout",
     "output_type": "stream",
     "text": [
      "68\n"
     ]
    }
   ],
   "source": [
    "def average(*args):\n",
    "    for arg in args:            # 왜 arg는 리스트입니까?\n",
    "        for score in arg:\n",
    "            if score < 40:\n",
    "                arg[arg.index(score)] = 40\n",
    "    return int(sum(arg)/len(arg))\n",
    "print(average(list(map(int, input().split()))))"
   ]
  },
  {
   "cell_type": "code",
   "execution_count": 42,
   "metadata": {},
   "outputs": [
    {
     "name": "stdout",
     "output_type": "stream",
     "text": [
      "<class 'list'>\n",
      "None\n"
     ]
    }
   ],
   "source": [
    "def average(*args):\n",
    "    for arg in args:\n",
    "        print(type(arg))\n",
    "print(average(list(map(int, input().split()))))"
   ]
  },
  {
   "cell_type": "code",
   "execution_count": 43,
   "metadata": {},
   "outputs": [
    {
     "name": "stdout",
     "output_type": "stream",
     "text": [
      "<class 'tuple'>\n",
      "None\n"
     ]
    }
   ],
   "source": [
    "def average(*args):\n",
    "    print(type(args))\n",
    "print(average(list(map(int, input().split()))))"
   ]
  },
  {
   "cell_type": "code",
   "execution_count": 44,
   "metadata": {},
   "outputs": [
    {
     "name": "stdout",
     "output_type": "stream",
     "text": [
      "<class 'list'>\n",
      "None\n"
     ]
    }
   ],
   "source": [
    "def average(*args):\n",
    "    print(type(*args))\n",
    "print(average(list(map(int, input().split()))))"
   ]
  },
  {
   "cell_type": "code",
   "execution_count": 39,
   "metadata": {},
   "outputs": [
    {
     "name": "stdout",
     "output_type": "stream",
     "text": [
      "68\n"
     ]
    }
   ],
   "source": [
    "scores = list()\n",
    "for i in range(5):\n",
    "    score = int(input())\n",
    "    if score < 40:\n",
    "        score = 40\n",
    "    scores.append(score)\n",
    "print(int(sum(scores)/len(scores)))"
   ]
  },
  {
   "cell_type": "markdown",
   "metadata": {},
   "source": [
    "### 1934번: 최소공배수\n",
    "<pre>\n",
    "문제\n",
    "두 자연수 A와 B에 대해서, A의 배수이면서 B의 배수인 자연수를 A와 B의 공배수라고 한다. \n",
    "이런 공배수 중에서 가장 작은 수를 최소공배수라고 한다. \n",
    "예를 들어, 6과 15의 공배수는 30, 60, 90등이 있으며, 최소 공배수는 30이다.\n",
    "\n",
    "두 자연수 A와 B가 주어졌을 때, A와 B의 최소공배수를 구하는 프로그램을 작성하시오.\n",
    "\n",
    "입력\n",
    "첫째 줄에 테스트 케이스의 개수 T(1 ≤ T ≤ 1,000)가 주어진다. 둘째 줄부터 T개의 줄에 걸쳐서 A와 B가 주어진다. \n",
    "(1 ≤ A, B ≤ 45,000)\n",
    "\n",
    "출력\n",
    "첫째 줄부터 T개의 줄에 A와 B의 최소공배수를 입력받은 순서대로 한 줄에 하나씩 출력한다.\n",
    "</pre>"
   ]
  },
  {
   "cell_type": "code",
   "execution_count": 20,
   "metadata": {},
   "outputs": [
    {
     "name": "stdout",
     "output_type": "stream",
     "text": [
      "45\n",
      "221\n",
      "30\n"
     ]
    }
   ],
   "source": [
    "for i in range(int(input())):           # 시간초과...\n",
    "    A, B = map(int, input().split())\n",
    "    A_divisor = {i for i in range(1, A + 1) if A % i == 0}\n",
    "    B_divisor = {i for i in range(1, B + 1) if B % i == 0}\n",
    "    bigAB = sorted(A_divisor & B_divisor).pop()\n",
    "    print(A * B // bigAB)"
   ]
  },
  {
   "cell_type": "code",
   "execution_count": 5,
   "metadata": {},
   "outputs": [
    {
     "name": "stdout",
     "output_type": "stream",
     "text": [
      "30\n"
     ]
    }
   ],
   "source": [
    "for i in range(int(input())): \n",
    "    a, b=map(int, input().split()) \n",
    "    aa, bb = a, b \n",
    "    while b > 0: # 유클리드 호제법: 최대공약수 구하기\n",
    "        a, b = b, a % b\n",
    "    print(aa * bb // a) # a가 a, b의 최대공약수"
   ]
  },
  {
   "cell_type": "markdown",
   "metadata": {},
   "source": [
    "### 4101번: 크냐?\n",
    "<pre>\n",
    "문제\n",
    "두 양의 정수가 주어졌을 때, 첫 번째 수가 두 번째 수보다 큰지 구하는 프로그램을 작성하시오.\n",
    "\n",
    "입력\n",
    "입력은 여러 개의 테스트 케이스로 이루어져 있다. \n",
    "각 테스트 케이스는 한 줄로 이루어져 있으며, 두 정수가 주어진다. \n",
    "두 수는 백만보다 작거나 같은 양의 정수이다. 입력의 마지막 줄에는 0이 두 개 주어진다.\n",
    "\n",
    "출력\n",
    "각 테스트 케이스마다, 첫 번째 수가 두 번째 수보다 크면 Yes를, 아니면 No를 한 줄에 하나씩 출력한다.\n",
    "</pre>"
   ]
  },
  {
   "cell_type": "code",
   "execution_count": 22,
   "metadata": {},
   "outputs": [
    {
     "name": "stdout",
     "output_type": "stream",
     "text": [
      "No\n",
      "No\n",
      "Yes\n"
     ]
    }
   ],
   "source": [
    "while(True):\n",
    "    a, b = map(int, input().split())\n",
    "    if a == 0 and b == 0:\n",
    "        break\n",
    "    if a > b:\n",
    "        print('Yes')\n",
    "    else:\n",
    "        print('No')"
   ]
  },
  {
   "cell_type": "markdown",
   "metadata": {},
   "source": [
    "### 10156번 과자\n",
    "<pre>\n",
    "문제\n",
    "동수는 제과점에 과자를 사러 가는데 현재 가진 돈이 모자랄 경우 부모님께 모자란 돈을 받으려고 한다. \n",
    "과자 한 개의 가격이 K, 사려고 하는 과자의 개수가 N이고, \n",
    "현재 가진 돈의 액수를 M이라 할 때 여러분은 동수가 부모님께 받아야 하는 모자란 돈을 계산하려고 한다. \n",
    "\n",
    "예를 들어, 과자 한 개의 가격이 30원, 사려고 하는 과자의 개수가 4개, 현재 동수가 가진 돈이 100원이라 할 때, \n",
    "동수가 부모님께 받아야 하는 돈은 20원이다. \n",
    "과자 한 개의 가격이 250원, 사려고 하는 과자의 개수가 2개, 현재 동수가 가진 돈이 140원이라 할 때, \n",
    "동수가 부모님께 받아야 하는 돈은 360원이다. \n",
    "과자 한 개의 가격이 20원, 사려고 하는 과자의 개수가 6개, 현재 동수가 가진 돈이 120원이라 할 때 \n",
    "동수가 부모님께 받아야 하는 돈은 0원이다. \n",
    "과자 한 개의 가격이 20원, 사려고 하는 과자의 개수가 10개, 현재 동수가 가진 돈이 320원이라 할 때 \n",
    "동수가 부모님께 받아야 하는 돈은 역시 0원이다. \n",
    "\n",
    "과자 한 개의 가격, 사려고 하는 과자의 개수와 동수가 현재 가진 돈의 액수가 주어질 때 \n",
    "동수가 부모님께 받아야 하는 돈의 액수를 출력하는 프로그램을 작성하시오. \n",
    "\n",
    "입력\n",
    "첫 번째 줄에는 과자 한 개의 가격 K, 사려고 하는 과자의 개수 N, 현재 동수가 가진 돈 M이 각각 공백을 사이에 두고 주어진다. \n",
    "단, K, N은 1,000 이하의 양의 정수이고, M은 10만 이하의 양의 정수이다. (1 ≤ K, N ≤ 1,000, 1 ≤ M ≤ 100,000이다.) \n",
    "\n",
    "출력\n",
    "첫 줄에 동수가 부모님께 받아야 하는 돈의 액수를 출력한다. \n",
    "</pre>"
   ]
  },
  {
   "cell_type": "code",
   "execution_count": 8,
   "metadata": {},
   "outputs": [
    {
     "name": "stdout",
     "output_type": "stream",
     "text": [
      "0\n"
     ]
    }
   ],
   "source": [
    "K, N, M = map(int, input().split())\n",
    "if K * N <= M:\n",
    "    print(0)\n",
    "else:\n",
    "    print(K * N - M)"
   ]
  },
  {
   "cell_type": "code",
   "execution_count": null,
   "metadata": {},
   "outputs": [],
   "source": []
  }
 ],
 "metadata": {
  "interpreter": {
   "hash": "2416f014eda44098b06ac223510cfbf712f6c3c49a2a2784b81e5eb971c53cd7"
  },
  "kernelspec": {
   "display_name": "Python 3.7.1 ('base')",
   "language": "python",
   "name": "python3"
  },
  "language_info": {
   "codemirror_mode": {
    "name": "ipython",
    "version": 3
   },
   "file_extension": ".py",
   "mimetype": "text/x-python",
   "name": "python",
   "nbconvert_exporter": "python",
   "pygments_lexer": "ipython3",
   "version": "3.7.1"
  },
  "orig_nbformat": 4
 },
 "nbformat": 4,
 "nbformat_minor": 2
}
