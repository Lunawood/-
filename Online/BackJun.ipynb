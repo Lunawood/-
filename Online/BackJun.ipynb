{
 "cells": [
  {
   "cell_type": "markdown",
   "metadata": {},
   "source": [
    "### 10039번 평균 점수\n",
    "<pre>\n",
    "문제\n",
    "상현이가 가르치는 아이폰 앱 개발 수업의 수강생은 원섭, 세희, 상근, 숭, 강수이다.\n",
    "\n",
    "어제 이 수업의 기말고사가 있었고, 상현이는 지금 학생들의 기말고사 시험지를 채점하고 있다. \n",
    "기말고사 점수가 40점 이상인 학생들은 그 점수 그대로 자신의 성적이 된다. \n",
    "하지만, 40점 미만인 학생들은 보충학습을 듣는 조건을 수락하면 40점을 받게 된다. \n",
    "보충학습은 거부할 수 없기 때문에, 40점 미만인 학생들은 항상 40점을 받게 된다.\n",
    "\n",
    "학생 5명의 점수가 주어졌을 때, 평균 점수를 구하는 프로그램을 작성하시오.\n",
    "\n",
    "입력\n",
    "입력은 총 5줄로 이루어져 있고, 원섭이의 점수, 세희의 점수, 상근이의 점수, 숭이의 점수, 강수의 점수가 순서대로 주어진다.\n",
    "\n",
    "점수는 모두 0점 이상, 100점 이하인 5의 배수이다. 따라서, 평균 점수는 항상 정수이다. \n",
    "</pre>"
   ]
  },
  {
   "cell_type": "code",
   "execution_count": 50,
   "metadata": {},
   "outputs": [
    {
     "name": "stdout",
     "output_type": "stream",
     "text": [
      "89\n"
     ]
    }
   ],
   "source": [
    "def average(arg_list):\n",
    "    for arg in arg_list:\n",
    "        if arg < 40:\n",
    "            arg_list[arg_list.index(arg)] = 40\n",
    "    return int(sum(arg_list)/len(arg_list))\n",
    "print(average(list(map(int, input().split()))))\n"
   ]
  },
  {
   "cell_type": "code",
   "execution_count": 38,
   "metadata": {},
   "outputs": [
    {
     "name": "stdout",
     "output_type": "stream",
     "text": [
      "68\n"
     ]
    }
   ],
   "source": [
    "def average(*args):\n",
    "    for arg in args:            # 왜 arg는 리스트입니까?\n",
    "        for score in arg:\n",
    "            if score < 40:\n",
    "                arg[arg.index(score)] = 40\n",
    "    return int(sum(arg)/len(arg))\n",
    "print(average(list(map(int, input().split()))))"
   ]
  },
  {
   "cell_type": "code",
   "execution_count": 42,
   "metadata": {},
   "outputs": [
    {
     "name": "stdout",
     "output_type": "stream",
     "text": [
      "<class 'list'>\n",
      "None\n"
     ]
    }
   ],
   "source": [
    "def average(*args):\n",
    "    for arg in args:\n",
    "        print(type(arg))\n",
    "print(average(list(map(int, input().split()))))"
   ]
  },
  {
   "cell_type": "code",
   "execution_count": 43,
   "metadata": {},
   "outputs": [
    {
     "name": "stdout",
     "output_type": "stream",
     "text": [
      "<class 'tuple'>\n",
      "None\n"
     ]
    }
   ],
   "source": [
    "def average(*args):\n",
    "    print(type(args))\n",
    "print(average(list(map(int, input().split()))))"
   ]
  },
  {
   "cell_type": "code",
   "execution_count": 44,
   "metadata": {},
   "outputs": [
    {
     "name": "stdout",
     "output_type": "stream",
     "text": [
      "<class 'list'>\n",
      "None\n"
     ]
    }
   ],
   "source": [
    "def average(*args):\n",
    "    print(type(*args))\n",
    "print(average(list(map(int, input().split()))))"
   ]
  },
  {
   "cell_type": "code",
   "execution_count": 39,
   "metadata": {},
   "outputs": [
    {
     "name": "stdout",
     "output_type": "stream",
     "text": [
      "68\n"
     ]
    }
   ],
   "source": [
    "scores = list()\n",
    "for i in range(5):\n",
    "    score = int(input())\n",
    "    if score < 40:\n",
    "        score = 40\n",
    "    scores.append(score)\n",
    "print(int(sum(scores)/len(scores)))"
   ]
  },
  {
   "cell_type": "markdown",
   "metadata": {},
   "source": [
    "### 1934번: 최소공배수\n",
    "<pre>\n",
    "문제\n",
    "두 자연수 A와 B에 대해서, A의 배수이면서 B의 배수인 자연수를 A와 B의 공배수라고 한다. \n",
    "이런 공배수 중에서 가장 작은 수를 최소공배수라고 한다. \n",
    "예를 들어, 6과 15의 공배수는 30, 60, 90등이 있으며, 최소 공배수는 30이다.\n",
    "\n",
    "두 자연수 A와 B가 주어졌을 때, A와 B의 최소공배수를 구하는 프로그램을 작성하시오.\n",
    "\n",
    "입력\n",
    "첫째 줄에 테스트 케이스의 개수 T(1 ≤ T ≤ 1,000)가 주어진다. 둘째 줄부터 T개의 줄에 걸쳐서 A와 B가 주어진다. \n",
    "(1 ≤ A, B ≤ 45,000)\n",
    "\n",
    "출력\n",
    "첫째 줄부터 T개의 줄에 A와 B의 최소공배수를 입력받은 순서대로 한 줄에 하나씩 출력한다.\n",
    "</pre>"
   ]
  },
  {
   "cell_type": "code",
   "execution_count": 20,
   "metadata": {},
   "outputs": [
    {
     "name": "stdout",
     "output_type": "stream",
     "text": [
      "45\n",
      "221\n",
      "30\n"
     ]
    }
   ],
   "source": [
    "for i in range(int(input())):           # 시간초과...\n",
    "    A, B = map(int, input().split())\n",
    "    A_divisor = {i for i in range(1, A + 1) if A % i == 0}\n",
    "    B_divisor = {i for i in range(1, B + 1) if B % i == 0}\n",
    "    bigAB = sorted(A_divisor & B_divisor).pop()\n",
    "    print(A * B // bigAB)"
   ]
  },
  {
   "cell_type": "code",
   "execution_count": 5,
   "metadata": {},
   "outputs": [
    {
     "name": "stdout",
     "output_type": "stream",
     "text": [
      "30\n"
     ]
    }
   ],
   "source": [
    "for i in range(int(input())): \n",
    "    a, b=map(int, input().split()) \n",
    "    aa, bb = a, b \n",
    "    while b > 0: # 유클리드 호제법: 최대공약수 구하기\n",
    "        a, b = b, a % b\n",
    "    print(aa * bb // a) # a가 a, b의 최대공약수"
   ]
  },
  {
   "cell_type": "markdown",
   "metadata": {},
   "source": [
    "### 4101번: 크냐?\n",
    "<pre>\n",
    "문제\n",
    "두 양의 정수가 주어졌을 때, 첫 번째 수가 두 번째 수보다 큰지 구하는 프로그램을 작성하시오.\n",
    "\n",
    "입력\n",
    "입력은 여러 개의 테스트 케이스로 이루어져 있다. \n",
    "각 테스트 케이스는 한 줄로 이루어져 있으며, 두 정수가 주어진다. \n",
    "두 수는 백만보다 작거나 같은 양의 정수이다. 입력의 마지막 줄에는 0이 두 개 주어진다.\n",
    "\n",
    "출력\n",
    "각 테스트 케이스마다, 첫 번째 수가 두 번째 수보다 크면 Yes를, 아니면 No를 한 줄에 하나씩 출력한다.\n",
    "</pre>"
   ]
  },
  {
   "cell_type": "code",
   "execution_count": 22,
   "metadata": {},
   "outputs": [
    {
     "name": "stdout",
     "output_type": "stream",
     "text": [
      "No\n",
      "No\n",
      "Yes\n"
     ]
    }
   ],
   "source": [
    "while(True):\n",
    "    a, b = map(int, input().split())\n",
    "    if a == 0 and b == 0:\n",
    "        break\n",
    "    if a > b:\n",
    "        print('Yes')\n",
    "    else:\n",
    "        print('No')"
   ]
  },
  {
   "cell_type": "markdown",
   "metadata": {},
   "source": [
    "### 10156번 과자\n",
    "<pre>\n",
    "문제\n",
    "동수는 제과점에 과자를 사러 가는데 현재 가진 돈이 모자랄 경우 부모님께 모자란 돈을 받으려고 한다. \n",
    "과자 한 개의 가격이 K, 사려고 하는 과자의 개수가 N이고, \n",
    "현재 가진 돈의 액수를 M이라 할 때 여러분은 동수가 부모님께 받아야 하는 모자란 돈을 계산하려고 한다. \n",
    "\n",
    "예를 들어, 과자 한 개의 가격이 30원, 사려고 하는 과자의 개수가 4개, 현재 동수가 가진 돈이 100원이라 할 때, \n",
    "동수가 부모님께 받아야 하는 돈은 20원이다. \n",
    "과자 한 개의 가격이 250원, 사려고 하는 과자의 개수가 2개, 현재 동수가 가진 돈이 140원이라 할 때, \n",
    "동수가 부모님께 받아야 하는 돈은 360원이다. \n",
    "과자 한 개의 가격이 20원, 사려고 하는 과자의 개수가 6개, 현재 동수가 가진 돈이 120원이라 할 때 \n",
    "동수가 부모님께 받아야 하는 돈은 0원이다. \n",
    "과자 한 개의 가격이 20원, 사려고 하는 과자의 개수가 10개, 현재 동수가 가진 돈이 320원이라 할 때 \n",
    "동수가 부모님께 받아야 하는 돈은 역시 0원이다. \n",
    "\n",
    "과자 한 개의 가격, 사려고 하는 과자의 개수와 동수가 현재 가진 돈의 액수가 주어질 때 \n",
    "동수가 부모님께 받아야 하는 돈의 액수를 출력하는 프로그램을 작성하시오. \n",
    "\n",
    "입력\n",
    "첫 번째 줄에는 과자 한 개의 가격 K, 사려고 하는 과자의 개수 N, 현재 동수가 가진 돈 M이 각각 공백을 사이에 두고 주어진다. \n",
    "단, K, N은 1,000 이하의 양의 정수이고, M은 10만 이하의 양의 정수이다. (1 ≤ K, N ≤ 1,000, 1 ≤ M ≤ 100,000이다.) \n",
    "\n",
    "출력\n",
    "첫 줄에 동수가 부모님께 받아야 하는 돈의 액수를 출력한다. \n",
    "</pre>"
   ]
  },
  {
   "cell_type": "code",
   "execution_count": 8,
   "metadata": {},
   "outputs": [
    {
     "name": "stdout",
     "output_type": "stream",
     "text": [
      "0\n"
     ]
    }
   ],
   "source": [
    "K, N, M = map(int, input().split())\n",
    "if K * N <= M:\n",
    "    print(0)\n",
    "else:\n",
    "    print(K * N - M)"
   ]
  },
  {
   "cell_type": "markdown",
   "metadata": {},
   "source": [
    "### 2476번 주사위 게임\n",
    "<pre>\n",
    "문제\n",
    "1에서부터 6까지의 눈을 가진 3개의 주사위를 던져서\n",
    " 다음과 같은 규칙에 따라 상금을 받는 게임이 있다.\n",
    "\n",
    "같은 눈이 3개가 나오면 10,000원+(같은 눈)×1,000원의\n",
    " 상금을 받게 된다. \n",
    "\n",
    "같은 눈이 2개만 나오는 경우에는 1,000원+(같은 눈)\n",
    "×100원의 상금을 받게 된다. \n",
    "\n",
    "모두 다른 눈이 나오는 경우에는 (그 중 가장 큰 눈)\n",
    "×100원의 상금을 받게 된다.  \n",
    "\n",
    "예를 들어, 3개의 눈 3, 3, 6이 주어지면 상금은 1,000+3×100으로 계산되어 1,300원을 받게 된다. \n",
    "또 3개의 눈이 2, 2, 2로 주어지면 10,000+2×1,000 으로 계산되어 12,000원을 받게 된다. \n",
    "3개의 눈이 6, 2, 5로 주어지면 그 중 가장 큰 값이 6이므로 6×100으로 계산되어 600원을 상금으로 받게 된다.\n",
    "\n",
    "N(2 ≤ N ≤ 1,000)명이 주사위 게임에 참여하였을 때,\n",
    " 가장 많은 상금을 받은 사람의 상금을 출력하는\n",
    "  프로그램을 작성하시오.\n",
    "\n",
    "입력\n",
    "첫째 줄에는 참여하는 사람 수 N이 주어지고 그 다음 \n",
    "줄부터 N개의 줄에 사람들이 주사위를 던진 3개의 눈이\n",
    " 빈칸을 사이에 두고 각각 주어진다. \n",
    "\n",
    "출력\n",
    "첫째 줄에 가장 많은 상금을 받은 사람의 상금을 \n",
    "출력한다.\n",
    "</pre>"
   ]
  },
  {
   "cell_type": "code",
   "execution_count": 17,
   "metadata": {},
   "outputs": [
    {
     "name": "stdout",
     "output_type": "stream",
     "text": [
      "[1300, 12000, 600, 1300, 1300]\n"
     ]
    }
   ],
   "source": [
    "result = []\n",
    "T = int(input())\n",
    "for i in range(T):\n",
    "    l = list(map(int, input().split()))\n",
    "    if len(set(l)) == 1:\n",
    "        result.append(10000 + l[0] * 1000) \n",
    "    elif len(set(l)) == 2:\n",
    "        if l[0] == l[1] or l[0] == l[2]:\n",
    "            result.append(1000 + 100 * l[0])\n",
    "        if l[1] == l[2]:\n",
    "            result.append(1000 + 100 * l[1])\n",
    "    else:\n",
    "        result.append(100 * max(l))\n",
    "print(max(result))"
   ]
  },
  {
   "cell_type": "code",
   "execution_count": 19,
   "metadata": {},
   "outputs": [
    {
     "name": "stdout",
     "output_type": "stream",
     "text": [
      "4.0\n"
     ]
    }
   ],
   "source": [
    "score = {'A+': 4.3, 'A0': 4.0, 'A-': 3.7,\n",
    "'B+': 3.3, 'B0': 3.0, 'B-': 2.7,\n",
    "'C+': 2.3, 'C0': 2.0, 'C-': 1.7,\n",
    "'D+': 1.3, 'D0': 1.0, 'D-': 0.7,\n",
    "'F': 0.0}\n",
    "test_score = input()\n",
    "print(score[test_score])"
   ]
  },
  {
   "cell_type": "code",
   "execution_count": 25,
   "metadata": {},
   "outputs": [
    {
     "name": "stdout",
     "output_type": "stream",
     "text": [
      "80\n"
     ]
    }
   ],
   "source": [
    "bowl = input()\n",
    "first = bowl[0]\n",
    "length = 10\n",
    "for i in range(1, len(bowl)):\n",
    "    if first == bowl[i]:\n",
    "        length += 5\n",
    "    else:\n",
    "        length += 10\n",
    "    first = bowl[i]\n",
    "print(length)"
   ]
  },
  {
   "cell_type": "code",
   "execution_count": 26,
   "metadata": {},
   "outputs": [
    {
     "name": "stdout",
     "output_type": "stream",
     "text": [
      "advertise\n",
      "does not matter\n",
      "do not advertise\n"
     ]
    }
   ],
   "source": [
    "for i in range(int(input())):\n",
    "    r, e, c = map(int, input().split())\n",
    "    if r < e - c:\n",
    "        print('advertise')\n",
    "    elif r == e - c:\n",
    "        print('does not matter')\n",
    "    else:\n",
    "        print('do not advertise')"
   ]
  },
  {
   "cell_type": "code",
   "execution_count": 2,
   "metadata": {},
   "outputs": [
    {
     "name": "stdout",
     "output_type": "stream",
     "text": [
      "B\n"
     ]
    }
   ],
   "source": [
    "p = int(input())\n",
    "\n",
    "g = input()\n",
    "\n",
    "if g.count('A') < g.count('B'):\n",
    "    print('B')\n",
    "elif g.count('A') > g.count('B'):\n",
    "    print('A')\n",
    "else:\n",
    "    print('Tie')"
   ]
  },
  {
   "cell_type": "code",
   "execution_count": 3,
   "metadata": {},
   "outputs": [
    {
     "name": "stdout",
     "output_type": "stream",
     "text": [
      "Junhee is not cute!\n"
     ]
    }
   ],
   "source": [
    "# 10886번\n",
    "l = []\n",
    "for i in range(int(input())):\n",
    "    l.append(int(input()))\n",
    "if l.count(1) < l.count(0):\n",
    "    print('Junhee is not cute!')\n",
    "else:\n",
    "    print('Junhee is cute!')"
   ]
  },
  {
   "cell_type": "code",
   "execution_count": 4,
   "metadata": {},
   "outputs": [
    {
     "data": {
      "text/plain": [
       "array([0.03073866, 0.34767506, 0.03137812, 0.43325626])"
      ]
     },
     "execution_count": 4,
     "metadata": {},
     "output_type": "execute_result"
    }
   ],
   "source": [
    "import numpy as np\n",
    "np.random.random(4)"
   ]
  },
  {
   "cell_type": "code",
   "execution_count": 7,
   "metadata": {},
   "outputs": [
    {
     "name": "stdout",
     "output_type": "stream",
     "text": [
      "0\n"
     ]
    }
   ],
   "source": [
    "s = input()\n",
    "print(int(s == s[::-1]))"
   ]
  },
  {
   "cell_type": "code",
   "execution_count": 25,
   "metadata": {},
   "outputs": [
    {
     "name": "stdout",
     "output_type": "stream",
     "text": [
      "6 = 1 + 2 + 3\n",
      "12 is NOT perfect\n",
      "28 = 1 + 2 + 4 + 7 + 14\n"
     ]
    }
   ],
   "source": [
    "\n",
    "while(True):\n",
    "    num = int(input())\n",
    "    if num == -1:\n",
    "        break\n",
    "    divisor = [i for i in range(1, num) if num % i == 0]\n",
    "    divisor.sort()\n",
    "    if sum(divisor) == num:\n",
    "        print(f'{num} = ', end='')\n",
    "        print(*divisor, sep=\" + \")\n",
    "    else:\n",
    "        print(f'{num} is NOT perfect.')"
   ]
  },
  {
   "cell_type": "code",
   "execution_count": 31,
   "metadata": {},
   "outputs": [
    {
     "name": "stdout",
     "output_type": "stream",
     "text": [
      "0 1 4\n"
     ]
    }
   ],
   "source": [
    "time = int(input())\n",
    "a, time = time//300, time%300\n",
    "b, time = time//60, time%60\n",
    "c, time = time//10, time%10\n",
    "if time != 0:\n",
    "    print(-1)\n",
    "else:\n",
    "    print(a,b,c)"
   ]
  },
  {
   "cell_type": "code",
   "execution_count": 32,
   "metadata": {},
   "outputs": [
    {
     "name": "stdout",
     "output_type": "stream",
     "text": [
      "94\n",
      "91\n"
     ]
    }
   ],
   "source": [
    "a_score = b_score = 100\n",
    "for i in range(int(input())):\n",
    "    a, b = map(int, input().split())\n",
    "    if a < b:\n",
    "        a_score -= b\n",
    "    elif a > b:\n",
    "        b_score -= a\n",
    "print(a_score)\n",
    "print(b_score)"
   ]
  },
  {
   "cell_type": "code",
   "execution_count": 36,
   "metadata": {},
   "outputs": [
    {
     "name": "stdout",
     "output_type": "stream",
     "text": [
      "Yonsei\n"
     ]
    }
   ],
   "source": [
    "y_score = k_score = 0\n",
    "for i in range(int(input())):\n",
    "    for j in range(9):\n",
    "        y, k = map(int, input().split())\n",
    "        y_score += y\n",
    "        k_score += k\n",
    "    if k_score < y_score:\n",
    "        print(\"Yonsei\")\n",
    "    elif k_score > y_score:\n",
    "        print(\"Korea\")\n",
    "    else:\n",
    "        print(\"Draw\")"
   ]
  },
  {
   "cell_type": "code",
   "execution_count": null,
   "metadata": {},
   "outputs": [],
   "source": [
    "while(True):\n",
    "    b, g = map(int, input().split())\n",
    "    if b == g == 0:\n",
    "        break\n",
    "    print(b+g)"
   ]
  },
  {
   "cell_type": "code",
   "execution_count": 37,
   "metadata": {},
   "outputs": [
    {
     "name": "stdout",
     "output_type": "stream",
     "text": [
      "Q1: 2\n",
      "Q2: 0\n",
      "Q3: 0\n",
      "Q4: 1\n",
      "AXIS: 2\n"
     ]
    }
   ],
   "source": [
    "l = [0,0,0,0,0]\n",
    "for i in range(int(input())):\n",
    "    x, y = map(int, input().split())\n",
    "    if x > 0 and y > 0:\n",
    "        l[1] += 1\n",
    "    elif x > 0 and y < 0:\n",
    "        l[4] += 1\n",
    "    elif x < 0 and y < 0:\n",
    "        l[3] += 1\n",
    "    elif x < 0 and y > 0:\n",
    "        l[2] += 1\n",
    "    else:\n",
    "        l[0] += 1\n",
    "print(f'Q1: {l[1]}')\n",
    "print(f'Q2: {l[2]}')\n",
    "print(f'Q3: {l[3]}')\n",
    "print(f'Q4: {l[4]}')\n",
    "print(f'AXIS: {l[0]}')\n"
   ]
  },
  {
   "cell_type": "code",
   "execution_count": 55,
   "metadata": {},
   "outputs": [
    {
     "name": "stdout",
     "output_type": "stream",
     "text": [
      "Ewha\n",
      "Korea\n"
     ]
    }
   ],
   "source": [
    "d = {}\n",
    "max = -1\n",
    "for T in range(int(input())):\n",
    "    for N in range(int(input())):\n",
    "        school, drink = input().split()\n",
    "        d[f'{school}'] = int(drink)\n",
    "        if max < int(drink):\n",
    "            max = int(drink)\n",
    "    for key, value in d.items():\n",
    "        if value == int(max):\n",
    "            print(key)                    "
   ]
  },
  {
   "cell_type": "code",
   "execution_count": 18,
   "metadata": {},
   "outputs": [
    {
     "name": "stdout",
     "output_type": "stream",
     "text": [
      "245\n",
      "64\n"
     ]
    }
   ],
   "source": [
    "l = []\n",
    "M = int(input())\n",
    "N = int(input())\n",
    "for i in range(M, N+1):\n",
    "    if pow(i, 0.5) % 1 == 0:\n",
    "        l.append(i)\n",
    "if len(l) == 0:\n",
    "    print(-1)\n",
    "else:\n",
    "    print(f'{sum(l)}\\n{l[0]}')"
   ]
  },
  {
   "cell_type": "code",
   "execution_count": 4,
   "metadata": {},
   "outputs": [
    {
     "name": "stdout",
     "output_type": "stream",
     "text": [
      "Ronaldinho\n",
      "Ronaldinho\n"
     ]
    }
   ],
   "source": [
    "for i in range(int(input())):\n",
    "    d = {}\n",
    "    max = 0\n",
    "    for j in range(int(input())):\n",
    "        m, n = input().split()\n",
    "        if max < int(m):\n",
    "            max = int(m)\n",
    "        d[n] = int(m)\n",
    "    for key, value in d.items():\n",
    "        if value == max:\n",
    "            print(key)"
   ]
  },
  {
   "cell_type": "code",
   "execution_count": 21,
   "metadata": {},
   "outputs": [
    {
     "name": "stdout",
     "output_type": "stream",
     "text": [
      "Tom\n",
      "Jerry\n"
     ]
    }
   ],
   "source": [
    "d = dict()\n",
    "min = 20110000\n",
    "max = 19900000\n",
    "for i in range(int(input())):\n",
    "    s = input()\n",
    "    l = s.split()\n",
    "    l[1], l[2] = l[1].zfill(2), l[2].zfill(2)\n",
    "    birth = int(''.join(l[3:0:-1]))\n",
    "    d[l[0]] = birth\n",
    "    if min > birth:\n",
    "        min = birth\n",
    "    if max < birth:\n",
    "        max = birth\n",
    "for key, value in d.items():\n",
    "    if value == max:\n",
    "        print(key)\n",
    "    if value == min:\n",
    "        print(key)"
   ]
  },
  {
   "cell_type": "code",
   "execution_count": 30,
   "metadata": {},
   "outputs": [
    {
     "data": {
      "text/plain": [
       "45"
      ]
     },
     "execution_count": 30,
     "metadata": {},
     "output_type": "execute_result"
    }
   ],
   "source": [
    "class A:\n",
    "    def __init__(self, i):\n",
    "        self.i = i\n",
    "    def add(self, n):\n",
    "        return self.i + n\n",
    "n = A(40)\n",
    "n.add(2) + 3\n"
   ]
  },
  {
   "cell_type": "code",
   "execution_count": 2,
   "metadata": {},
   "outputs": [
    {
     "name": "stdout",
     "output_type": "stream",
     "text": [
      "1\n"
     ]
    }
   ],
   "source": [
    "a = '01'\n",
    "print(int(a))"
   ]
  },
  {
   "cell_type": "code",
   "execution_count": 9,
   "metadata": {},
   "outputs": [
    {
     "name": "stdout",
     "output_type": "stream",
     "text": [
      "00:07:30\n"
     ]
    }
   ],
   "source": [
    "s_hour, s_minute, s_second = map(int, input().split(':'))\n",
    "f_hour, f_minute, f_second = map(int, input().split(':'))\n",
    "r_second = f_second - s_second\n",
    "r_minute = f_minute - s_minute\n",
    "r_hour = f_hour - s_hour\n",
    "if r_second < 0:\n",
    "    r_second += 60\n",
    "    r_minute -= 1\n",
    "if r_minute < 0:\n",
    "    r_minute += 60\n",
    "    r_hour -= 1\n",
    "if r_hour < 0:\n",
    "    r_hour += 24\n",
    "print(f'{r_hour:02d}:{r_minute:02d}:{r_second:02d}')"
   ]
  },
  {
   "cell_type": "code",
   "execution_count": null,
   "metadata": {},
   "outputs": [],
   "source": []
  }
 ],
 "metadata": {
  "interpreter": {
   "hash": "2416f014eda44098b06ac223510cfbf712f6c3c49a2a2784b81e5eb971c53cd7"
  },
  "kernelspec": {
   "display_name": "Python 3.7.1 ('base')",
   "language": "python",
   "name": "python3"
  },
  "language_info": {
   "codemirror_mode": {
    "name": "ipython",
    "version": 3
   },
   "file_extension": ".py",
   "mimetype": "text/x-python",
   "name": "python",
   "nbconvert_exporter": "python",
   "pygments_lexer": "ipython3",
   "version": "3.7.1"
  },
  "orig_nbformat": 4
 },
 "nbformat": 4,
 "nbformat_minor": 2
}
